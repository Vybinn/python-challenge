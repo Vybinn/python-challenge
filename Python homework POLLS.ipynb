{
 "cells": [
  {
   "cell_type": "code",
   "execution_count": 1,
   "metadata": {},
   "outputs": [],
   "source": [
    "import pandas as pd\n",
    "import os\n",
    "import csv\n",
    "import numpy as np\n"
   ]
  },
  {
   "cell_type": "code",
   "execution_count": 2,
   "metadata": {},
   "outputs": [],
   "source": [
    "pollpath = os.path.join(\"Resources\", \"election_data.csv\")"
   ]
  },
  {
   "cell_type": "code",
   "execution_count": 3,
   "metadata": {},
   "outputs": [
    {
     "data": {
      "text/html": [
       "<div>\n",
       "<style scoped>\n",
       "    .dataframe tbody tr th:only-of-type {\n",
       "        vertical-align: middle;\n",
       "    }\n",
       "\n",
       "    .dataframe tbody tr th {\n",
       "        vertical-align: top;\n",
       "    }\n",
       "\n",
       "    .dataframe thead th {\n",
       "        text-align: right;\n",
       "    }\n",
       "</style>\n",
       "<table border=\"1\" class=\"dataframe\">\n",
       "  <thead>\n",
       "    <tr style=\"text-align: right;\">\n",
       "      <th></th>\n",
       "      <th>Voter ID</th>\n",
       "      <th>County</th>\n",
       "      <th>Candidate</th>\n",
       "    </tr>\n",
       "  </thead>\n",
       "  <tbody>\n",
       "    <tr>\n",
       "      <td>0</td>\n",
       "      <td>12864552</td>\n",
       "      <td>Marsh</td>\n",
       "      <td>Khan</td>\n",
       "    </tr>\n",
       "    <tr>\n",
       "      <td>1</td>\n",
       "      <td>17444633</td>\n",
       "      <td>Marsh</td>\n",
       "      <td>Correy</td>\n",
       "    </tr>\n",
       "    <tr>\n",
       "      <td>2</td>\n",
       "      <td>19330107</td>\n",
       "      <td>Marsh</td>\n",
       "      <td>Khan</td>\n",
       "    </tr>\n",
       "    <tr>\n",
       "      <td>3</td>\n",
       "      <td>19865775</td>\n",
       "      <td>Queen</td>\n",
       "      <td>Khan</td>\n",
       "    </tr>\n",
       "    <tr>\n",
       "      <td>4</td>\n",
       "      <td>11927875</td>\n",
       "      <td>Marsh</td>\n",
       "      <td>Khan</td>\n",
       "    </tr>\n",
       "  </tbody>\n",
       "</table>\n",
       "</div>"
      ],
      "text/plain": [
       "   Voter ID County Candidate\n",
       "0  12864552  Marsh      Khan\n",
       "1  17444633  Marsh    Correy\n",
       "2  19330107  Marsh      Khan\n",
       "3  19865775  Queen      Khan\n",
       "4  11927875  Marsh      Khan"
      ]
     },
     "execution_count": 3,
     "metadata": {},
     "output_type": "execute_result"
    }
   ],
   "source": [
    "pollpathpd=pd.read_csv(pollpath)\n",
    "pollpathpd.head()"
   ]
  },
  {
   "cell_type": "code",
   "execution_count": 4,
   "metadata": {},
   "outputs": [
    {
     "data": {
      "text/plain": [
       "3521001"
      ]
     },
     "execution_count": 4,
     "metadata": {},
     "output_type": "execute_result"
    }
   ],
   "source": [
    "numvotes=(len(pollpathpd[\"Voter ID\"].unique()))\n",
    "numvotes"
   ]
  },
  {
   "cell_type": "code",
   "execution_count": 5,
   "metadata": {},
   "outputs": [
    {
     "data": {
      "text/plain": [
       "array(['Khan', 'Correy', 'Li', \"O'Tooley\"], dtype=object)"
      ]
     },
     "execution_count": 5,
     "metadata": {},
     "output_type": "execute_result"
    }
   ],
   "source": [
    "candidates = pollpathpd[\"Candidate\"].unique()\n",
    "candidates"
   ]
  },
  {
   "cell_type": "code",
   "execution_count": 6,
   "metadata": {},
   "outputs": [
    {
     "data": {
      "text/plain": [
       "Khan        2218231\n",
       "Correy       704200\n",
       "Li           492940\n",
       "O'Tooley     105630\n",
       "Name: Candidate, dtype: int64"
      ]
     },
     "execution_count": 6,
     "metadata": {},
     "output_type": "execute_result"
    }
   ],
   "source": [
    "candcount = pollpathpd[\"Candidate\"].value_counts()\n",
    "candcount"
   ]
  },
  {
   "cell_type": "code",
   "execution_count": 7,
   "metadata": {},
   "outputs": [
    {
     "data": {
      "text/plain": [
       "Khan        63.000011\n",
       "Correy      19.999994\n",
       "Li          13.999996\n",
       "O'Tooley     2.999999\n",
       "Name: Candidate, dtype: float64"
      ]
     },
     "execution_count": 7,
     "metadata": {},
     "output_type": "execute_result"
    }
   ],
   "source": [
    "candper = candcount / numvotes * 100\n",
    "candper"
   ]
  },
  {
   "cell_type": "code",
   "execution_count": 11,
   "metadata": {},
   "outputs": [
    {
     "data": {
      "text/plain": [
       "0    Khan\n",
       "dtype: object"
      ]
     },
     "execution_count": 11,
     "metadata": {},
     "output_type": "execute_result"
    }
   ],
   "source": [
    "winner = pollpathpd[\"Candidate\"].mode()"
   ]
  },
  {
   "cell_type": "code",
   "execution_count": 185,
   "metadata": {},
   "outputs": [
    {
     "data": {
      "text/html": [
       "<div>\n",
       "<style scoped>\n",
       "    .dataframe tbody tr th:only-of-type {\n",
       "        vertical-align: middle;\n",
       "    }\n",
       "\n",
       "    .dataframe tbody tr th {\n",
       "        vertical-align: top;\n",
       "    }\n",
       "\n",
       "    .dataframe thead th {\n",
       "        text-align: right;\n",
       "    }\n",
       "</style>\n",
       "<table border=\"1\" class=\"dataframe\">\n",
       "  <thead>\n",
       "    <tr style=\"text-align: right;\">\n",
       "      <th></th>\n",
       "      <th>Candidates</th>\n",
       "      <th>Percent of Vote</th>\n",
       "      <th>Total Votes</th>\n",
       "    </tr>\n",
       "  </thead>\n",
       "  <tbody>\n",
       "    <tr>\n",
       "      <td>0</td>\n",
       "      <td>Khan</td>\n",
       "      <td>63%</td>\n",
       "      <td>2,218,231</td>\n",
       "    </tr>\n",
       "    <tr>\n",
       "      <td>1</td>\n",
       "      <td>Correy</td>\n",
       "      <td>20%</td>\n",
       "      <td>704,200</td>\n",
       "    </tr>\n",
       "    <tr>\n",
       "      <td>2</td>\n",
       "      <td>Li</td>\n",
       "      <td>14%</td>\n",
       "      <td>492,940</td>\n",
       "    </tr>\n",
       "    <tr>\n",
       "      <td>3</td>\n",
       "      <td>O'Tooley</td>\n",
       "      <td>3%</td>\n",
       "      <td>105,630</td>\n",
       "    </tr>\n",
       "  </tbody>\n",
       "</table>\n",
       "</div>"
      ],
      "text/plain": [
       "  Candidates Percent of Vote Total Votes\n",
       "0       Khan             63%   2,218,231\n",
       "1     Correy             20%     704,200\n",
       "2         Li             14%     492,940\n",
       "3   O'Tooley              3%     105,630"
      ]
     },
     "execution_count": 185,
     "metadata": {},
     "output_type": "execute_result"
    }
   ],
   "source": [
    "summary_polls_dicts = {\"Candidates\": [\"Khan\", \"Correy\", \"Li\", \"O'Tooley\"], \n",
    "                              \"Percent of Vote\": [\"63%\", \"20%\", \"14%\", \"3%\"],\n",
    "                              \"Total Votes\": [\"2,218,231\", \"704,200\", \"492,940\", \"105,630\"]}\n",
    "summary_polls_df=pd.DataFrame(summary_polls_dicts)\n",
    "summary_polls_df\n"
   ]
  },
  {
   "cell_type": "code",
   "execution_count": 186,
   "metadata": {},
   "outputs": [
    {
     "name": "stdout",
     "output_type": "stream",
     "text": [
      "0    Winner is Khan\n",
      "dtype: object\n"
     ]
    }
   ],
   "source": [
    "print (\"Winner is \" + (winner))"
   ]
  },
  {
   "cell_type": "code",
   "execution_count": 149,
   "metadata": {},
   "outputs": [],
   "source": [
    "Kname = summary_polls_pd.iloc[0,0]\n",
    "Kper = summary_polls_pd.iloc[0,1]\n",
    "Kvotes = summary_polls_pd.iloc[0,2]\n",
    "Cname = summary_polls_pd.iloc[1,0]\n",
    "Cper = summary_polls_pd.iloc[1,1]\n",
    "Cvotes = summary_polls_pd.iloc[1,2]\n",
    "Lname = summary_polls_pd.iloc[2,0]\n",
    "Lper = summary_polls_pd.iloc[2,1]\n",
    "Lvotes = summary_polls_pd.iloc[2,2]\n",
    "Oname = summary_polls_pd.iloc[3,0]\n",
    "Oper = summary_polls_pd.iloc[3,1]\n",
    "Ovotes = summary_polls_pd.iloc[3,2]\n"
   ]
  },
  {
   "cell_type": "code",
   "execution_count": 190,
   "metadata": {},
   "outputs": [
    {
     "name": "stdout",
     "output_type": "stream",
     "text": [
      "Election Results\n",
      "---------------------------\n",
      "Total Votes: 3521001\n",
      "---------------------------\n",
      "Khan:     63% 2,218,231\n",
      "Correy:   20% 704,200\n",
      "Li:       14% 492,940\n",
      "O'Tooley: 3%  105,630\n",
      "---------------------------\n",
      "Winner is Khan\n",
      "---------------------------\n"
     ]
    }
   ],
   "source": [
    "a = (\"Election Results\")\n",
    "b = (\"---------------------------\")\n",
    "c = (\"Total Votes: \" + str(numvotes))\n",
    "d = (\"---------------------------\")\n",
    "e = (Kname +\":     \"  +  Kper  +\" \" + Kvotes)\n",
    "f = (Cname +\":   \"  +  Cper  +\" \" + Cvotes)\n",
    "g = (Lname +\":       \"  +  Lper  +\" \" + Lvotes)\n",
    "h = (Oname +\": \"  +  Oper  +\"  \" + Ovotes)\n",
    "m = (\"---------------------------\")\n",
    "n = (\"Winner is \" + Kname)\n",
    "o = (\"---------------------------\")\n",
    "print (a)\n",
    "print (b)\n",
    "print (c)\n",
    "print (d)\n",
    "print (e)\n",
    "print (f)\n",
    "print (g)\n",
    "print (h)\n",
    "print (m)\n",
    "print (n)\n",
    "print (o)\n",
    "\n",
    "     "
   ]
  },
  {
   "cell_type": "code",
   "execution_count": 191,
   "metadata": {},
   "outputs": [],
   "source": [
    "file1 = open(\"PyPolls_Summary.txt\", \"w+\")"
   ]
  },
  {
   "cell_type": "code",
   "execution_count": 192,
   "metadata": {},
   "outputs": [],
   "source": [
    "file1.write(\"This is Craig Hall's summary of PyPolls \\n\")\n",
    "file1.write(a + \" \\n\")\n",
    "file1.write(b + \" \\n\")\n",
    "file1.write(c + \" \\n\")\n",
    "file1.write(d + \" \\n\")\n",
    "file1.write(e + \" \\n\")\n",
    "file1.write(f + \" \\n\")\n",
    "file1.write(g + \" \\n\")\n",
    "file1.write(h + \" \\n\")\n",
    "file1.write(m + \" \\n\")\n",
    "file1.write(n + \" \\n\")\n",
    "file1.write(o + \" \\n\")\n",
    "file1.close()"
   ]
  },
  {
   "cell_type": "code",
   "execution_count": null,
   "metadata": {},
   "outputs": [],
   "source": []
  }
 ],
 "metadata": {
  "kernelspec": {
   "display_name": "Python 3",
   "language": "python",
   "name": "python3"
  },
  "language_info": {
   "codemirror_mode": {
    "name": "ipython",
    "version": 3
   },
   "file_extension": ".py",
   "mimetype": "text/x-python",
   "name": "python",
   "nbconvert_exporter": "python",
   "pygments_lexer": "ipython3",
   "version": "3.7.4"
  }
 },
 "nbformat": 4,
 "nbformat_minor": 2
}
